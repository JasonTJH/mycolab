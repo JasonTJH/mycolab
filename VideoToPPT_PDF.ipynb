{
  "nbformat": 4,
  "nbformat_minor": 0,
  "metadata": {
    "colab": {
      "name": "ScriptingVideoToPPT/PDF.ipynb",
      "provenance": [],
      "collapsed_sections": [
        "pMBZiVAfyRYI",
        "FiHBvU9yzfXC",
        "y9hPIcTw0rF2",
        "IXMG1-R8KIAE",
        "1qAmvqy4WgCW",
        "N2rhhxGCyD2Y",
        "6uZCMt-JEJtV"
      ],
      "include_colab_link": true
    },
    "kernelspec": {
      "display_name": "Python 3",
      "name": "python3"
    }
  },
  "cells": [
    {
      "cell_type": "markdown",
      "metadata": {
        "id": "view-in-github",
        "colab_type": "text"
      },
      "source": [
        "<a href=\"https://colab.research.google.com/github/JasonTJH/mycolab/blob/main/VideoToPPT_PDF.ipynb\" target=\"_parent\"><img src=\"https://colab.research.google.com/assets/colab-badge.svg\" alt=\"Open In Colab\"/></a>"
      ]
    },
    {
      "cell_type": "markdown",
      "metadata": {
        "id": "nC_aUroJupC4"
      },
      "source": [
        "# Video To PPT/PDF"
      ]
    },
    {
      "cell_type": "code",
      "metadata": {
        "colab": {
          "base_uri": "https://localhost:8080/"
        },
        "id": "4Wbr-7m0ZxAr",
        "outputId": "907c6759-6322-4bbe-8975-39bc695ee309"
      },
      "source": [
        "# Installing dependencies\n",
        "!pip install av\n",
        "!pip install img2pdf\n",
        "!pip install python-pptx\n",
        "\n",
        "# Importing dependencies\n",
        "import av\n",
        "import av.datasets\n",
        "import os\n",
        "from PIL import Image\n",
        "import subprocess\n",
        "import itertools\n",
        "import numpy as np\n",
        "import matplotlib.pyplot as plt\n",
        "%matplotlib inline\n",
        "import cv2\n",
        "import time\n",
        "from hashlib import md5\n",
        "from scipy.spatial import distance\n",
        "import img2pdf\n",
        "import pptx\n",
        "import pptx.util\n",
        "import glob\n",
        "from imageio import imread\n",
        "from google.colab import files"
      ],
      "execution_count": null,
      "outputs": [
        {
          "output_type": "stream",
          "text": [
            "Collecting av\n",
            "\u001b[?25l  Downloading https://files.pythonhosted.org/packages/66/ff/bacde7314c646a2bd2f240034809a10cc3f8b096751284d0828640fff3dd/av-8.0.3-cp37-cp37m-manylinux2010_x86_64.whl (37.2MB)\n",
            "\u001b[K     |████████████████████████████████| 37.2MB 1.3MB/s \n",
            "\u001b[?25hInstalling collected packages: av\n",
            "Successfully installed av-8.0.3\n",
            "Collecting img2pdf\n",
            "\u001b[?25l  Downloading https://files.pythonhosted.org/packages/cf/af/889d10143566ec4fcdc66dcb1be948c6018f1cf99071225c7c0707feb1d3/img2pdf-0.4.1-py3-none-any.whl (41kB)\n",
            "\u001b[K     |████████████████████████████████| 51kB 3.1MB/s \n",
            "\u001b[?25hRequirement already satisfied: Pillow in /usr/local/lib/python3.7/dist-packages (from img2pdf) (7.1.2)\n",
            "Collecting pikepdf\n",
            "\u001b[?25l  Downloading https://files.pythonhosted.org/packages/e5/5f/5599fc3aaf563f69eb45d1ed7810b89409f10c6582fb28828c43931ccc7c/pikepdf-2.12.2-cp37-cp37m-manylinux2010_x86_64.whl (1.9MB)\n",
            "\u001b[K     |████████████████████████████████| 1.9MB 8.1MB/s \n",
            "\u001b[?25hRequirement already satisfied: lxml>=4.0 in /usr/local/lib/python3.7/dist-packages (from pikepdf->img2pdf) (4.2.6)\n",
            "Installing collected packages: pikepdf, img2pdf\n",
            "Successfully installed img2pdf-0.4.1 pikepdf-2.12.2\n",
            "Collecting python-pptx\n",
            "\u001b[?25l  Downloading https://files.pythonhosted.org/packages/53/ed/547be9730350509253bc7d76631a8ffcd1a62dda4d7482fb25d369696e37/python-pptx-0.6.19.tar.gz (9.3MB)\n",
            "\u001b[K     |████████████████████████████████| 9.3MB 5.5MB/s \n",
            "\u001b[?25hRequirement already satisfied: lxml>=3.1.0 in /usr/local/lib/python3.7/dist-packages (from python-pptx) (4.2.6)\n",
            "Requirement already satisfied: Pillow>=3.3.2 in /usr/local/lib/python3.7/dist-packages (from python-pptx) (7.1.2)\n",
            "Collecting XlsxWriter>=0.5.7\n",
            "\u001b[?25l  Downloading https://files.pythonhosted.org/packages/2c/ce/74fd8d638a5b82ea0c6f08a5978f741c2655a38c3d6e82f73a0f084377e6/XlsxWriter-1.4.3-py2.py3-none-any.whl (149kB)\n",
            "\u001b[K     |████████████████████████████████| 153kB 37.2MB/s \n",
            "\u001b[?25hBuilding wheels for collected packages: python-pptx\n",
            "  Building wheel for python-pptx (setup.py) ... \u001b[?25l\u001b[?25hdone\n",
            "  Created wheel for python-pptx: filename=python_pptx-0.6.19-cp37-none-any.whl size=469953 sha256=f35a930b8fc6bf879badcd627cd01eacd5bfaec75c0c96d182452fd3f74cce66\n",
            "  Stored in directory: /root/.cache/pip/wheels/94/ef/02/9357c6781fbe3fee0e5e04bad23904d096e39d420423519631\n",
            "Successfully built python-pptx\n",
            "Installing collected packages: XlsxWriter, python-pptx\n",
            "Successfully installed XlsxWriter-1.4.3 python-pptx-0.6.19\n"
          ],
          "name": "stdout"
        }
      ]
    },
    {
      "cell_type": "code",
      "metadata": {
        "id": "5_v0oUvYckog"
      },
      "source": [
        "### INPUTS\n",
        "### remove any unwanted jpg files in the current working directory\n",
        "\n",
        "vidpath = \"/content/drive/MyDrive/Colab_Notebooks/REPLACE_WITH_VIDEO_NAME.mp4\"\n",
        "box_x = int(1570) ##this + width should be equal total width of video resolution (1920)\n",
        "box_y = int(800)  ##this + height should be equal total height of video resolution (1080)\n",
        "box_w = int(350)  ## WIDTH OF BOX\n",
        "box_h = int(280)  ## HEIGHT OF BOX\n",
        "imgfreq = int(5)  #in seconds - only for detailed raw images\n",
        "zeropad = int(5)  #for formatting temp file names, max image count is 5 digits"
      ],
      "execution_count": null,
      "outputs": []
    },
    {
      "cell_type": "markdown",
      "metadata": {
        "id": "pMBZiVAfyRYI"
      },
      "source": [
        "## Getting key JPG images from video"
      ]
    },
    {
      "cell_type": "code",
      "metadata": {
        "colab": {
          "base_uri": "https://localhost:8080/"
        },
        "id": "jG14aqz9HQuy",
        "outputId": "3a69cdc1-848b-48a5-fb7b-e5b1fd39c4b7"
      },
      "source": [
        "from google.colab import drive\n",
        "drive.mount('/content/drive')"
      ],
      "execution_count": null,
      "outputs": [
        {
          "output_type": "stream",
          "text": [
            "Mounted at /content/drive\n"
          ],
          "name": "stdout"
        }
      ]
    },
    {
      "cell_type": "code",
      "metadata": {
        "id": "KNFcNDNRCHkm"
      },
      "source": [
        "# Fastest but might miss out on some stuff #1000fpm\n",
        "def mp4tojpg(vidpath,type): #vidpath & blackvideo.mp4    \n",
        "  content = av.datasets.curated(vidpath)\n",
        "  with av.open(content) as container:\n",
        "      # Signal that we only want to look at keyframes.\n",
        "      #container.streams.video[0].thread_type = 'AUTO' #auto threading\n",
        "      stream = container.streams.video[0]\n",
        "      stream.codec_context.skip_frame = type # SkipType Names - NONE, DEFAULT, NONREF, NONINTRA, NONKEY, ALL\n",
        "\n",
        "      for frame in container.decode(stream):\n",
        "          #print(frame)\n",
        "          # We use `frame.pts` as `frame.index` won't make must sense with the `skip_frame`.\n",
        "          frame.to_image().save(\n",
        "              #'{:04d}.jpg'.format(frame.index),\n",
        "              f'{str(frame.index).zfill(zeropad)}.jpg',\n",
        "              quality=50)\n",
        "      return os.listdir()"
      ],
      "execution_count": null,
      "outputs": []
    },
    {
      "cell_type": "markdown",
      "metadata": {
        "id": "FiHBvU9yzfXC"
      },
      "source": [
        "## Combining JPG to new video (30fps) to be processed"
      ]
    },
    {
      "cell_type": "code",
      "metadata": {
        "id": "JlWX_uPjss-P"
      },
      "source": [
        "'''\n",
        "#Faster but poor image quality\n",
        "def jpgtomp4(output): #'newvideo.mp4'\n",
        "  output = av.open(output, 'w')\n",
        "  stream = output.add_stream('libx264rgb', 30) #libx264 or libx264rgb\n",
        "  stream.pix_fmt = \"rgb24\" #yuv420p or rgb24 \n",
        "  #stream.options[\"crf\"] = \"0\"\n",
        "  for image in sorted([file for file in os.listdir() if file.endswith(('jpg'))]):\n",
        "    frame = av.VideoFrame.from_image(Image.open(image))\n",
        "    packet = stream.encode(frame)\n",
        "    output.mux(packet)\n",
        "  output.mux(stream.encode())\n",
        "  output.close()\n",
        "'''\n",
        "# Slower but probably a bit btr quality\n",
        "#!ffmpeg -framerate 30 -pattern_type glob -i '*.jpg' -c:v libx264 -pix_fmt yuv420p newvideo.mp4\n",
        "def jpgtomp42(output): #newvideo.mp4, blackvideo.mp4\n",
        "  subprocess.run(['ffmpeg', '-framerate', '30', '-pattern_type', 'glob', '-i', '*.jpg', '-c:v', 'libx264', '-pix_fmt', 'yuv420p', output])\n"
      ],
      "execution_count": null,
      "outputs": []
    },
    {
      "cell_type": "code",
      "metadata": {
        "colab": {
          "base_uri": "https://localhost:8080/"
        },
        "id": "pQXogaVxthIA",
        "outputId": "9a2d6f19-6ae9-4543-e39c-e571ef864081"
      },
      "source": [
        "#removes all jpg files to avoid clutter\n",
        "!rm *.jpg"
      ],
      "execution_count": null,
      "outputs": [
        {
          "output_type": "stream",
          "text": [
            "rm: cannot remove '*.jpg': No such file or directory\n"
          ],
          "name": "stdout"
        }
      ]
    },
    {
      "cell_type": "markdown",
      "metadata": {
        "id": "y9hPIcTw0rF2"
      },
      "source": [
        "## Remove instructor face on new video"
      ]
    },
    {
      "cell_type": "code",
      "metadata": {
        "id": "78IuCkOr0-jR"
      },
      "source": [
        "#!ffmpeg -y -i newvideo.mp4 -vf \"drawbox=x=1570:y=800:w=350:h=280:color=black@1:t=max\" blackvideo.mp4 #4 min execution\n",
        "\n",
        "def addbox(input,output,box_x,box_y,box_w,box_h): #newvideo.mp4, blackvideo.mp4\n",
        "  subprocess.run(['ffmpeg', '-y', '-i', input, '-vf', 'drawbox=x='+str(box_x)+':y='+str(box_y)+':w='+str(box_w)+':h='+str(box_h)+':color=black@1:t=max', output],check=True)\n",
        "\n",
        "#!ffmpeg -i blackvideo.mp4 -vf mpdecimate,setpts=N/FRAME_RATE/TB cleanvideo.mp4 #7 min execution"
      ],
      "execution_count": null,
      "outputs": []
    },
    {
      "cell_type": "markdown",
      "metadata": {
        "id": "IXMG1-R8KIAE"
      },
      "source": [
        "## Using Hamming Distance to find and remove similar images"
      ]
    },
    {
      "cell_type": "code",
      "metadata": {
        "id": "os25ezCQI9L_"
      },
      "source": [
        "#Hamming distance\n",
        "\n",
        "def hamming_distance(image, image2):\n",
        "    score = distance.hamming(image, image2)\n",
        "    return score\n",
        "\n",
        "def resize(image, height=30, width=30):\n",
        "    row_res = cv2.resize(image,(height, width), interpolation = cv2.INTER_AREA).flatten()\n",
        "    col_res = cv2.resize(image,(height, width), interpolation = cv2.INTER_AREA).flatten('F')\n",
        "    return row_res, col_res\n",
        "\n",
        "def img_gray(image):\n",
        "    image = plt.imread(image)\n",
        "    return np.average(image, weights=[0.299, 0.587, 0.114], axis=2)\n",
        "\n",
        "def difference_score(image, height = 30, width = 30):\n",
        "    gray = img_gray(image)\n",
        "    row_res, col_res = resize(gray, height, width)\n",
        "    difference = intensity_diff(row_res, col_res)\n",
        "    return difference\n",
        "\n",
        "def intensity_diff(row_res, col_res):\n",
        "    difference_row = np.diff(row_res)\n",
        "    difference_col = np.diff(col_res)\n",
        "    difference_row = difference_row > 0\n",
        "    difference_col = difference_col > 0\n",
        "    return np.vstack((difference_row, difference_col)).flatten()\n",
        "    #return difference_row\n",
        "    #return np.vstack((difference_row, difference_col)) #str method\n",
        "\n",
        "def difference_score_dict(image_list):\n",
        "    ds_dict = {}\n",
        "    duplicates = []\n",
        "    for image in image_list:\n",
        "        ds = difference_score(image)\n",
        "        \n",
        "        if image not in ds_dict:\n",
        "            ds_dict[image] = ds\n",
        "        else:\n",
        "            duplicates.append((image, ds_dict[image]) )\n",
        "    \n",
        "    return  duplicates, ds_dict\n",
        "\n",
        "def get_duplicates():\n",
        "  image_files = [file for file in os.listdir() if file.endswith(('jpg'))]\n",
        "  duplicates, ds_dict = difference_score_dict(image_files)\n",
        "  \n",
        "  for k1,k2 in itertools.combinations(ds_dict, 2):\n",
        "    if hamming_distance(ds_dict[k1], ds_dict[k2])< .10:\n",
        "        duplicates.append((k1,k2))\n",
        "  dupes = [x[1] for x in duplicates]\n",
        "  dupes = list(set(dupes))\n",
        "  return dupes\n",
        "\n",
        "def remove_duplicates(dupes):\n",
        "  for i in dupes:\n",
        "    os.remove(i)\n",
        "\n",
        "def show_duplicates(duplicates):\n",
        "  for file_names in duplicates[:100]:\n",
        "    try:\n",
        "        plt.subplot(121),plt.imshow(plt.imread(file_names[0]))\n",
        "        plt.title('Duplicate'), plt.xticks([]), plt.yticks([])\n",
        "\n",
        "        plt.subplot(122),plt.imshow(plt.imread(file_names[1]))\n",
        "        plt.title('Original'), plt.xticks([]), plt.yticks([])\n",
        "        plt.show()\n",
        "    \n",
        "    except OSError as e:\n",
        "        continue"
      ],
      "execution_count": null,
      "outputs": []
    },
    {
      "cell_type": "markdown",
      "metadata": {
        "id": "1qAmvqy4WgCW"
      },
      "source": [
        "## Compressing JPG images"
      ]
    },
    {
      "cell_type": "code",
      "metadata": {
        "id": "HcQwwD9qWgxK"
      },
      "source": [
        "def compress_jpg():\n",
        "  images = [file for file in os.listdir() if file.endswith(('jpg'))]\n",
        "  for image in sorted(images):\n",
        "    # 1. Open the image\n",
        "    img = Image.open(image)\n",
        "    # 2. Compressing the image\n",
        "    img.save(\"Cmp\"+image,\n",
        "             optimize=True,\n",
        "             quality=30)"
      ],
      "execution_count": null,
      "outputs": []
    },
    {
      "cell_type": "code",
      "metadata": {
        "id": "IwsbdBEhv-rx"
      },
      "source": [
        "def remove_uncompressed_jpg():\n",
        "  for i in range(0, 10000):\n",
        "    try:\n",
        "      os.remove(str(i).zfill(zeropad) + \".jpg\")\n",
        "    except:\n",
        "      pass"
      ],
      "execution_count": null,
      "outputs": []
    },
    {
      "cell_type": "markdown",
      "metadata": {
        "id": "N2rhhxGCyD2Y"
      },
      "source": [
        "## Combining compressed slides to PDF (output.pdf)"
      ]
    },
    {
      "cell_type": "code",
      "metadata": {
        "id": "nlI2kVjs4gkE"
      },
      "source": [
        "\n",
        "\"\"\"\n",
        "with open(\"output.pdf\", \"wb\") as f:\n",
        "    f.write(img2pdf.convert([i for i in os.listdir('.') if i.endswith(\".jpg\")]))\n",
        "\"\"\"\n",
        "def make_pdf(output): # 'output.pdf'\n",
        "\t# convert all files ending in .jpg inside a directory\n",
        "\tdirname = \"/content\"\n",
        "\twith open(output,\"wb\") as f:\n",
        "\t\timgs = []\n",
        "\t\tfor fname in os.listdir(dirname):\n",
        "\t\t\tif not fname.endswith(\".jpg\"):\n",
        "\t\t\t\tcontinue\n",
        "\t\t\tpath = os.path.join(dirname, fname)\n",
        "\t\t\tif os.path.isdir(path):\n",
        "\t\t\t\tcontinue\n",
        "\t\t\timgs.append(path)\n",
        "\t\tf.write(img2pdf.convert(sorted(imgs)))"
      ],
      "execution_count": null,
      "outputs": []
    },
    {
      "cell_type": "markdown",
      "metadata": {
        "id": "6uZCMt-JEJtV"
      },
      "source": [
        "##Combining compressed slides to PPT (output.ppt)\n"
      ]
    },
    {
      "cell_type": "code",
      "metadata": {
        "id": "TW7WrjIHEPxQ"
      },
      "source": [
        "##\n",
        "##  Copy & Paste Tool for images to PowerPoint(.pptx)\n",
        "##\n",
        "def make_ppt(output): #'output.pptx'\n",
        "  OUTPUT_TAG = output\n",
        "\n",
        "  # new\n",
        "  prs = pptx.Presentation()\n",
        "  # open\n",
        "  # prs_exists = pptx.Presentation(\"some_presentation.pptx\")\n",
        "\n",
        "  # default slide width\n",
        "  prs.slide_width = 9144000\n",
        "  # slide height @ 4:3\n",
        "  prs.slide_height = 6858000\n",
        "  # slide height @ 16:9\n",
        "  #prs.slide_height = 5143500\n",
        "\n",
        "  # title slide\n",
        "  slide = prs.slides.add_slide(prs.slide_layouts[0])\n",
        "  # blank slide\n",
        "  #slide = prs.slides.add_slide(prs.slide_layouts[6])\n",
        "\n",
        "  # set title\n",
        "  title = slide.shapes.title\n",
        "  title.text = OUTPUT_TAG\n",
        "\n",
        "  pic_left  = int(prs.slide_width * 0)\n",
        "  pic_top   = int(prs.slide_height * 0.1)\n",
        "  pic_width = int(prs.slide_width * 1)\n",
        "\n",
        "  for g in sorted(glob.glob('*.jpg')):\n",
        "      #print (g)\n",
        "      slide = prs.slides.add_slide(prs.slide_layouts[6])\n",
        "\n",
        "      #tb = slide.shapes.add_textbox(0, 0, prs.slide_width, pic_top / 2)\n",
        "      #p = tb.text_frame.add_paragraph()\n",
        "      #p.text = g\n",
        "      #p.font.size = pptx.util.Pt(14)\n",
        "\n",
        "      img = imread(g)\n",
        "      pic_height = int(pic_width * img.shape[0] / img.shape[1])\n",
        "      #pic   = slide.shapes.add_picture(g, pic_left, pic_top)\n",
        "      pic   = slide.shapes.add_picture(g, pic_left, pic_top, pic_width, pic_height)\n",
        "\n",
        "  prs.save(\"%s\" % OUTPUT_TAG)"
      ],
      "execution_count": null,
      "outputs": []
    },
    {
      "cell_type": "code",
      "metadata": {
        "id": "FCEhNYnZGEeS"
      },
      "source": [
        "def downloadfiles():\n",
        "  files.download('output.pptx')\n",
        "  files.download('output.pdf')\n",
        "  #files.download('newvideo.mp4')\n",
        "  #files.download('blackvideo.mp4')"
      ],
      "execution_count": null,
      "outputs": []
    },
    {
      "cell_type": "code",
      "metadata": {
        "id": "wo5W1jOybaM6"
      },
      "source": [
        "#!rm -rf /content/test_frames1"
      ],
      "execution_count": null,
      "outputs": []
    },
    {
      "cell_type": "code",
      "metadata": {
        "colab": {
          "base_uri": "https://localhost:8080/"
        },
        "id": "L3iMNlX-Lmm_",
        "outputId": "18dcb6e3-c89b-412d-bf5c-a8e3eb741703"
      },
      "source": [
        "!rm *.jpg"
      ],
      "execution_count": null,
      "outputs": [
        {
          "output_type": "stream",
          "text": [
            "rm: cannot remove '*.jpg': No such file or directory\n"
          ],
          "name": "stdout"
        }
      ]
    },
    {
      "cell_type": "code",
      "metadata": {
        "id": "QG-GvYRhRCRL"
      },
      "source": [
        ""
      ],
      "execution_count": null,
      "outputs": []
    },
    {
      "cell_type": "markdown",
      "metadata": {
        "id": "w_AV_jHdgMNc"
      },
      "source": [
        "\n",
        "# MAIN"
      ]
    },
    {
      "cell_type": "code",
      "metadata": {
        "id": "q0gPW0SzCvFJ"
      },
      "source": [
        "def main(vidpath,box_x,box_y,box_w,box_h):\n",
        "  start = time.time()\n",
        "\n",
        "  mp4tojpg(vidpath, 'NONINTRA') # SkipType Names - NONE, DEFAULT, NONREF, NONINTRA, NONKEY, ALL (>>> Skips more)\n",
        "  print(\"Key images extracted in \" + str(time.time()-start) + \" seconds\")\n",
        "  jpgtomp42('newvideo.mp4')\n",
        "  print(\"New video created in \" + str(time.time()-start) + \" seconds\")\n",
        "  addbox('newvideo.mp4','blackvideo.mp4',box_x,box_y,box_w,box_h)\n",
        "  print(\"Black video created in \" + str(time.time()-start) + \" seconds\")\n",
        "  mp4tojpg('/content/blackvideo.mp4','NONREF') # SkipType Names - NONE, DEFAULT, NONREF, NONINTRA, NONKEY, ALL (>>> Skips more)\n",
        "  print(\"Key images extracted in \" + str(time.time()-start) + \" seconds\")\n",
        "  remove_duplicates(get_duplicates())\n",
        "  print(\"Duplicates removed in \" + str(time.time()-start) + \" seconds\")\n",
        "  #show_duplicates(difference_score_dict()[0])\n",
        "  compress_jpg()\n",
        "  print(\"JPG compressed in \" + str(time.time()-start) + \" seconds\")\n",
        "  remove_uncompressed_jpg()\n",
        "  print(\"Uncompressed JPG removed in \" + str(time.time()-start) + \" seconds\")\n",
        "  make_pdf('output.pdf')\n",
        "  make_ppt('output.pptx')\n",
        "  print(\"PDF/PPT done in \" + str(time.time()-start) + \" seconds\")"
      ],
      "execution_count": null,
      "outputs": []
    },
    {
      "cell_type": "code",
      "metadata": {
        "id": "KoWtESfaKk51",
        "colab": {
          "base_uri": "https://localhost:8080/"
        },
        "outputId": "54fd3bbe-277b-47fe-f1a8-559ac1590942"
      },
      "source": [
        "main(vidpath, box_x, box_y, box_w, box_h)"
      ],
      "execution_count": null,
      "outputs": [
        {
          "output_type": "stream",
          "text": [
            "illegal short term buffer state detected\n",
            "illegal short term buffer state detected\n",
            " (repeated 9 more times)\n"
          ],
          "name": "stderr"
        },
        {
          "output_type": "stream",
          "text": [
            "Key images extracted in 284.7879681587219 seconds\n",
            "New video created in 560.4427454471588 seconds\n",
            "Black video created in 791.6722428798676 seconds\n",
            "Key images extracted in 939.2653307914734 seconds\n",
            "Duplicates removed in 1555.807375907898 seconds\n",
            "JPG compressed in 1598.003602027893 seconds\n",
            "Uncompressed JPG removed in 1598.1017999649048 seconds\n",
            "PDF/PPT done in 1629.4089951515198 seconds\n"
          ],
          "name": "stdout"
        }
      ]
    },
    {
      "cell_type": "code",
      "metadata": {
        "id": "FEUbQDENhCIe",
        "colab": {
          "base_uri": "https://localhost:8080/",
          "height": 34
        },
        "outputId": "6a8400b4-aa2f-4edb-83ee-f62af3ddb8c5"
      },
      "source": [
        "!rm *.jpg\n",
        "'''\n",
        "!rm *.mp4\n",
        "!rm *.pptx\n",
        "!rm *.pdf\n",
        "'''"
      ],
      "execution_count": null,
      "outputs": [
        {
          "output_type": "execute_result",
          "data": {
            "application/vnd.google.colaboratory.intrinsic+json": {
              "type": "string"
            },
            "text/plain": [
              "'\\n!rm *.mp4\\n!rm *.pptx\\n!rm *.pdf\\n'"
            ]
          },
          "metadata": {
            "tags": []
          },
          "execution_count": 15
        }
      ]
    }
  ]
}