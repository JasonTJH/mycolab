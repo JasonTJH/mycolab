{
  "nbformat": 4,
  "nbformat_minor": 0,
  "metadata": {
    "colab": {
      "name": "TopNewFollowers_Twitter.ipynb",
      "provenance": [],
      "collapsed_sections": [
        "MxGOVa_l6M44"
      ],
      "toc_visible": true,
      "include_colab_link": true
    },
    "kernelspec": {
      "name": "python3",
      "display_name": "Python 3"
    }
  },
  "cells": [
    {
      "cell_type": "markdown",
      "metadata": {
        "id": "view-in-github",
        "colab_type": "text"
      },
      "source": [
        "<a href=\"https://colab.research.google.com/github/JasonTJH/mycolab/blob/main/TopNewFollowers_Twitter.ipynb\" target=\"_parent\"><img src=\"https://colab.research.google.com/assets/colab-badge.svg\" alt=\"Open In Colab\"/></a>"
      ]
    },
    {
      "cell_type": "markdown",
      "metadata": {
        "id": "bu7_LvlaP11s"
      },
      "source": [
        "# Scraping Social Bakers (Top Twitter New Followers)"
      ]
    },
    {
      "cell_type": "code",
      "metadata": {
        "id": "SOJf9cj2r2y2"
      },
      "source": [
        "!pip install selenium\n",
        "!apt-get update # to update ubuntu to correctly run apt install\n",
        "!apt install chromium-chromedriver\n",
        "!cp /usr/lib/chromium-browser/chromedriver /usr/bin\n",
        "import time\n",
        "import sys\n",
        "import re\n",
        "from bs4 import BeautifulSoup, SoupStrainer\n",
        "from urllib.parse import urljoin\n",
        "from selenium import webdriver\n",
        "import subprocess\n",
        "from itertools import repeat, chain\n",
        "from multiprocessing import Pool, Process, Manager\n",
        "import requests\n",
        "from concurrent.futures import ThreadPoolExecutor, ProcessPoolExecutor, as_completed\n",
        "from concurrent.futures import Future\n",
        "from datetime import datetime, timedelta\n",
        "from matplotlib import pyplot as plt\n",
        "from collections import OrderedDict\n",
        "\n",
        "sys.path.insert(0,'/usr/lib/chromium-browser/chromedriver')\n",
        "chrome_options = webdriver.ChromeOptions()\n",
        "chrome_options.add_argument('--headless')\n",
        "chrome_options.add_argument('--no-sandbox')\n",
        "chrome_options.add_argument('--disable-dev-shm-usage')"
      ],
      "execution_count": null,
      "outputs": []
    },
    {
      "cell_type": "markdown",
      "metadata": {
        "id": "lpIVNykFlgFz"
      },
      "source": [
        "## Setup"
      ]
    },
    {
      "cell_type": "code",
      "metadata": {
        "id": "h2kf3jbBm1X6"
      },
      "source": [
        "# Defining static & test variables\n",
        "base = 'https://www.socialbakers.com'\n",
        "driver = webdriver.Chrome('chromedriver',options=chrome_options)\n",
        "driver.get(base+'/statistics/twitter/profiles')\n",
        "soup = BeautifulSoup(driver.page_source, \"html.parser\")\n",
        "sample_link_ext = '/statistics/twitter/profiles/afghanistan'\n",
        "sample_profile_ext = '/statistics/twitter/profiles/detail/111240404-radiomosaiquefm'\n",
        "sample_chart_link = \"https://api-sbks.socialbakers.com/charts/twitter/followers.html?ids=111240404&colors=45ada8%3Ba7c686%3B547980&interval=last_6_months\"\n",
        "industry_list = ['/statistics/twitter/profiles', '/statistics/twitter/profiles/brands', '/statistics/twitter/profiles/celebrities', '/statistics/twitter/profiles/community', '/statistics/twitter/profiles/entertainment', '/statistics/twitter/profiles/media', '/statistics/twitter/profiles/place', '/statistics/twitter/profiles/society', '/statistics/twitter/profiles/sport']\n",
        "sleep_time = 0.05 #for loading javascript in selenium parser - raise it if get_followers have no output\n",
        "\n",
        "# Functions to be used below\n",
        "def get_profile_ext(link_ext):\n",
        "  my_list = list()\n",
        "  driver.get(base + link_ext)\n",
        "  soup = BeautifulSoup(driver.page_source, \"lxml\", parse_only=SoupStrainer(href=re.compile(\"/statistics/twitter/profiles/detail/\")))\n",
        "  outputs = [str(i) for i in soup]\n",
        "  splitter = 'href=\"'\n",
        "  splitter2 = '-'\n",
        "  splitter3 = '\"'\n",
        "  for a in outputs:\n",
        "    my_list.append(a.split(splitter)[1].split(splitter2)[0].split(splitter3)[0])\n",
        "  return my_list\n",
        "#print(get_profile_ext(sample_link_ext))\n",
        "\n",
        "\n",
        "def get_chart_link(profile_ext):\n",
        "  chart_link = 'https://api-sbks.socialbakers.com/charts/twitter/followers.html?ids='+profile_ext.split('/detail/')[1].split('-')[0]+'&colors=45ada8%3Ba7c686%3B547980&interval=last_6_months'\n",
        "  return chart_link\n",
        "#print(get_chart_link(sample_profile_ext))\n",
        "\n",
        "def get_followers(chart_link):\n",
        "  #driver = webdriver.Chrome('chromedriver',options=chrome_options)\n",
        "  driver.get(chart_link)\n",
        "  try:\n",
        "    time.sleep(sleep_time)\n",
        "    result = driver.execute_script('var text = options ; return text')\n",
        "  except:\n",
        "    try:\n",
        "      time.sleep(sleep_time)\n",
        "      result = driver.execute_script('var text = options ; return text')\n",
        "    except:\n",
        "      try:\n",
        "        time.sleep(sleep_time)\n",
        "        result = driver.execute_script('var text = options ; return text')\n",
        "      except:\n",
        "        return [], [], []\n",
        "  # Cleaning data for use\n",
        "  today = datetime(datetime.now().year, datetime.now().month, datetime.now().day)\n",
        "\n",
        "  follower_list = []\n",
        "  num_list = list(range(14*12,-14,-14))\n",
        "  date_list = [today - timedelta(days= i) for i in num_list]\n",
        "  for i,v in dict(dict(result)['series'][0])['data']:\n",
        "    follower_list.append(v)\n",
        "  return date_list, follower_list, num_list\n",
        "#print(get_followers(sample_chart_link))\n",
        "\n",
        "def plot_g(date_list, follower_list):\n",
        "  plt.plot(date_list, follower_list)\n",
        "#x, y, z = get_followers(sample_chart_link)\n",
        "#plot_g(x,y)\n",
        "\n",
        "def pct_chg(follower_list, num_list):\n",
        "  try:\n",
        "    followers_bf_2w = follower_list[num_list.index(14)] + 1 if follower_list[num_list.index(14)] == 0 else follower_list[num_list.index(14)]\n",
        "    followers_bf_1m = follower_list[num_list.index(28)] + 1 if follower_list[num_list.index(28)] == 0 else follower_list[num_list.index(28)]\n",
        "    followers_bf_3m = follower_list[num_list.index(84)] + 1 if follower_list[num_list.index(84)] == 0 else follower_list[num_list.index(84)]\n",
        "    followers_bf_6m = follower_list[num_list.index(168)] + 1 if follower_list[num_list.index(168)] == 0 else follower_list[num_list.index(168)]\n",
        "    followers_af = follower_list[-1]\n",
        "    pct_chg_2w = round((followers_af/followers_bf_2w-1),5)\n",
        "    pct_chg_1m = round((followers_af/followers_bf_1m-1),5)\n",
        "    pct_chg_3m = round((followers_af/followers_bf_3m-1),5)\n",
        "    pct_chg_6m = round((followers_af/followers_bf_6m-1),5)\n",
        "    followers_bf_list = [followers_bf_6m, followers_bf_3m, followers_bf_1m, followers_bf_2w]\n",
        "    pct_chg_list = [pct_chg_6m,pct_chg_3m,pct_chg_1m,pct_chg_2w]\n",
        "  except:\n",
        "    return\n",
        "  return pct_chg_list, followers_bf_list, followers_af\n",
        "\n",
        "#x, y, z = get_followers(sample_chart_link)\n",
        "#print(pct_chg(y,z))\n",
        "\n",
        "def get_category(profile_ext):\n",
        "  #profile_ext = chart_link.split('?ids=')[1].split('&colors=')[0]\n",
        "  driver.get(base + profile_ext)\n",
        "  soup = BeautifulSoup(driver.page_source, \"html.parser\")\n",
        "  category_set = set()\n",
        "  for a in soup.find_all(href=True):\n",
        "    if a['href'].startswith('/statistics/twitter/profiles/') and '/statistics/twitter/profiles/detail' not in a['href'] and a['href'] not in industry_list:\n",
        "      category_set.add(str(a['href']).split('profiles/')[1])\n",
        "  return category_set\n",
        "#print(get_category(sample_profile_ext))\n",
        "\n",
        "def get_profile_name(profile_ext):\n",
        "  driver.get(base + profile_ext)\n",
        "  soup = BeautifulSoup(driver.page_source, \"html.parser\")\n",
        "  category_set = set()\n",
        "  for a in soup.find_all('a', {'class' : 'external link-nw'}):\n",
        "    profile_name = a.text\n",
        "  return profile_name\n",
        "#print(get_profile_name(sample_profile_ext))\n",
        "\n",
        "def set_var(tenor,top_x):\n",
        "  if tenor == '6m':\n",
        "    target_list = sorted_chg_6m[len(sorted_chg_6m)-top_x:]\n",
        "    target_value = 0\n",
        "  elif tenor == '3m':\n",
        "    target_list = sorted_chg_3m[len(sorted_chg_3m)-top_x:]\n",
        "    target_value = 1\n",
        "  elif tenor == '1m':\n",
        "    target_list = sorted_chg_1m[len(sorted_chg_1m)-top_x:]\n",
        "    target_value = 2\n",
        "  elif tenor == '2w':\n",
        "    target_list = sorted_chg_2w[len(sorted_chg_2w)-top_x:]\n",
        "    target_value = 3\n",
        "  else:\n",
        "    pass\n",
        "  return target_list, target_value, tenor, top_x\n",
        "#print(set_var('2w',25)) # var1 takes in ['2w','1m','3m','6m'], var2 is the top # results you want to see - requires some output from code below before testing is allowed"
      ],
      "execution_count": null,
      "outputs": []
    },
    {
      "cell_type": "markdown",
      "metadata": {
        "id": "EWArEJIakDmT"
      },
      "source": [
        "### Getting Active List"
      ]
    },
    {
      "cell_type": "code",
      "metadata": {
        "id": "Weqgn_VOibCJ"
      },
      "source": [
        "# Getting a list of directories to each countries page\n",
        "active_list = ['/statistics/twitter/profiles/afghanistan', '/statistics/twitter/profiles/aland-islands', '/statistics/twitter/profiles/albania', '/statistics/twitter/profiles/algeria', '/statistics/twitter/profiles/american-samoa', '/statistics/twitter/profiles/andorra', '/statistics/twitter/profiles/angola', '/statistics/twitter/profiles/anguilla', '/statistics/twitter/profiles/antigua-and-barbuda', '/statistics/twitter/profiles/argentina', '/statistics/twitter/profiles/armenia', '/statistics/twitter/profiles/aruba', '/statistics/twitter/profiles/australia', '/statistics/twitter/profiles/austria', '/statistics/twitter/profiles/azerbaijan', '/statistics/twitter/profiles/bahamas', '/statistics/twitter/profiles/bahrain', '/statistics/twitter/profiles/bangladesh', '/statistics/twitter/profiles/barbados', '/statistics/twitter/profiles/belarus', '/statistics/twitter/profiles/belgium', '/statistics/twitter/profiles/belize', '/statistics/twitter/profiles/benin', '/statistics/twitter/profiles/bermuda', '/statistics/twitter/profiles/bhutan', '/statistics/twitter/profiles/bolivia', '/statistics/twitter/profiles/bonaire-saint-eustatius-and-saba', '/statistics/twitter/profiles/bosnia-and-herzegovina', '/statistics/twitter/profiles/botswana', '/statistics/twitter/profiles/brazil', '/statistics/twitter/profiles/british-indian-ocean-territory', '/statistics/twitter/profiles/british-virgin-islands', '/statistics/twitter/profiles/brunei', '/statistics/twitter/profiles/bulgaria', '/statistics/twitter/profiles/burkina-faso', '/statistics/twitter/profiles/burundi', '/statistics/twitter/profiles/cambodia', '/statistics/twitter/profiles/cameroon', '/statistics/twitter/profiles/canada', '/statistics/twitter/profiles/cape-verde', '/statistics/twitter/profiles/cayman-islands', '/statistics/twitter/profiles/central-african-republic', '/statistics/twitter/profiles/chad', '/statistics/twitter/profiles/chile', '/statistics/twitter/profiles/china', '/statistics/twitter/profiles/cocos-islands', '/statistics/twitter/profiles/colombia', '/statistics/twitter/profiles/comoros', '/statistics/twitter/profiles/costa-rica', '/statistics/twitter/profiles/croatia', '/statistics/twitter/profiles/cuba', '/statistics/twitter/profiles/curacao', '/statistics/twitter/profiles/cyprus', '/statistics/twitter/profiles/czech-republic', '/statistics/twitter/profiles/democratic-republic-of-the-congo', '/statistics/twitter/profiles/denmark', '/statistics/twitter/profiles/djibouti', '/statistics/twitter/profiles/dominica', '/statistics/twitter/profiles/dominican-republic', '/statistics/twitter/profiles/east-timor', '/statistics/twitter/profiles/ecuador', '/statistics/twitter/profiles/egypt', '/statistics/twitter/profiles/el-salvador', '/statistics/twitter/profiles/equatorial-guinea', '/statistics/twitter/profiles/eritrea', '/statistics/twitter/profiles/estonia', '/statistics/twitter/profiles/ethiopia', '/statistics/twitter/profiles/falkland-islands', '/statistics/twitter/profiles/faroe-islands', '/statistics/twitter/profiles/fiji', '/statistics/twitter/profiles/finland', '/statistics/twitter/profiles/france', '/statistics/twitter/profiles/french-guiana', '/statistics/twitter/profiles/french-polynesia', '/statistics/twitter/profiles/global', '/statistics/twitter/profiles/gabon', '/statistics/twitter/profiles/gambia', '/statistics/twitter/profiles/georgia', '/statistics/twitter/profiles/germany', '/statistics/twitter/profiles/ghana', '/statistics/twitter/profiles/gibraltar', '/statistics/twitter/profiles/greece', '/statistics/twitter/profiles/greenland', '/statistics/twitter/profiles/grenada', '/statistics/twitter/profiles/guadeloupe', '/statistics/twitter/profiles/guam', '/statistics/twitter/profiles/guatemala', '/statistics/twitter/profiles/guernsey', '/statistics/twitter/profiles/guinea', '/statistics/twitter/profiles/guinea-bissau', '/statistics/twitter/profiles/guyana', '/statistics/twitter/profiles/haiti', '/statistics/twitter/profiles/honduras', '/statistics/twitter/profiles/hong-kong', '/statistics/twitter/profiles/hungary', '/statistics/twitter/profiles/iceland', '/statistics/twitter/profiles/india', '/statistics/twitter/profiles/indonesia', '/statistics/twitter/profiles/iran', '/statistics/twitter/profiles/iraq', '/statistics/twitter/profiles/ireland', '/statistics/twitter/profiles/isle-of-man', '/statistics/twitter/profiles/israel', '/statistics/twitter/profiles/italy', '/statistics/twitter/profiles/ivory-coast', '/statistics/twitter/profiles/jamaica', '/statistics/twitter/profiles/japan', '/statistics/twitter/profiles/jersey', '/statistics/twitter/profiles/jordan', '/statistics/twitter/profiles/kazakhstan', '/statistics/twitter/profiles/kenya', '/statistics/twitter/profiles/kosovo', '/statistics/twitter/profiles/kuwait', '/statistics/twitter/profiles/kyrgyzstan', '/statistics/twitter/profiles/laos', '/statistics/twitter/profiles/latvia', '/statistics/twitter/profiles/lebanon', '/statistics/twitter/profiles/lesotho', '/statistics/twitter/profiles/liberia', '/statistics/twitter/profiles/libya', '/statistics/twitter/profiles/liechtenstein', '/statistics/twitter/profiles/lithuania', '/statistics/twitter/profiles/luxembourg', '/statistics/twitter/profiles/macao', '/statistics/twitter/profiles/macedonia', '/statistics/twitter/profiles/madagascar', '/statistics/twitter/profiles/malawi', '/statistics/twitter/profiles/malaysia', '/statistics/twitter/profiles/maldives', '/statistics/twitter/profiles/mali', '/statistics/twitter/profiles/malta', '/statistics/twitter/profiles/marshall-islands', '/statistics/twitter/profiles/martinique', '/statistics/twitter/profiles/mauritania', '/statistics/twitter/profiles/mauritius', '/statistics/twitter/profiles/mayotte', '/statistics/twitter/profiles/mexico', '/statistics/twitter/profiles/micronesia', '/statistics/twitter/profiles/moldova', '/statistics/twitter/profiles/monaco', '/statistics/twitter/profiles/mongolia', '/statistics/twitter/profiles/montenegro', '/statistics/twitter/profiles/montserrat', '/statistics/twitter/profiles/morocco', '/statistics/twitter/profiles/mozambique', '/statistics/twitter/profiles/myanmar', '/statistics/twitter/profiles/namibia', '/statistics/twitter/profiles/nauru', '/statistics/twitter/profiles/nepal', '/statistics/twitter/profiles/netherlands', '/statistics/twitter/profiles/netherlands-antilles', '/statistics/twitter/profiles/new-caledonia', '/statistics/twitter/profiles/new-zealand', '/statistics/twitter/profiles/nicaragua', '/statistics/twitter/profiles/niger', '/statistics/twitter/profiles/nigeria', '/statistics/twitter/profiles/norfolk-island', '/statistics/twitter/profiles/northern-mariana-islands', '/statistics/twitter/profiles/norway', '/statistics/twitter/profiles/oman', '/statistics/twitter/profiles/pakistan', '/statistics/twitter/profiles/palau', '/statistics/twitter/profiles/palestinian-territory', '/statistics/twitter/profiles/panama', '/statistics/twitter/profiles/papua-new-guinea', '/statistics/twitter/profiles/paraguay', '/statistics/twitter/profiles/peru', '/statistics/twitter/profiles/philippines', '/statistics/twitter/profiles/poland', '/statistics/twitter/profiles/portugal', '/statistics/twitter/profiles/puerto-rico', '/statistics/twitter/profiles/qatar', '/statistics/twitter/profiles/republic-of-the-congo', '/statistics/twitter/profiles/reunion', '/statistics/twitter/profiles/romania', '/statistics/twitter/profiles/russia', '/statistics/twitter/profiles/rwanda', '/statistics/twitter/profiles/saint-kitts-and-nevis', '/statistics/twitter/profiles/saint-lucia', '/statistics/twitter/profiles/saint-martin', '/statistics/twitter/profiles/saint-vincent-and-the-grenadines', '/statistics/twitter/profiles/samoa', '/statistics/twitter/profiles/san-marino', '/statistics/twitter/profiles/sao-tome-and-principe', '/statistics/twitter/profiles/saudi-arabia', '/statistics/twitter/profiles/senegal', '/statistics/twitter/profiles/serbia', '/statistics/twitter/profiles/seychelles', '/statistics/twitter/profiles/sierra-leone', '/statistics/twitter/profiles/singapore', '/statistics/twitter/profiles/slovakia', '/statistics/twitter/profiles/slovenia', '/statistics/twitter/profiles/somalia', '/statistics/twitter/profiles/south-africa', '/statistics/twitter/profiles/south-korea', '/statistics/twitter/profiles/south-sudan', '/statistics/twitter/profiles/spain', '/statistics/twitter/profiles/sri-lanka', '/statistics/twitter/profiles/sudan', '/statistics/twitter/profiles/suriname', '/statistics/twitter/profiles/swaziland', '/statistics/twitter/profiles/sweden', '/statistics/twitter/profiles/switzerland', '/statistics/twitter/profiles/syria', '/statistics/twitter/profiles/taiwan', '/statistics/twitter/profiles/tajikistan', '/statistics/twitter/profiles/tanzania', '/statistics/twitter/profiles/thailand', '/statistics/twitter/profiles/togo', '/statistics/twitter/profiles/tokelau', '/statistics/twitter/profiles/tonga', '/statistics/twitter/profiles/trinidad-and-tobago', '/statistics/twitter/profiles/tunisia', '/statistics/twitter/profiles/turkey', '/statistics/twitter/profiles/turkmenistan', '/statistics/twitter/profiles/turks-and-caicos-islands', '/statistics/twitter/profiles/u-s-virgin-islands', '/statistics/twitter/profiles/uganda', '/statistics/twitter/profiles/ukraine', '/statistics/twitter/profiles/united-arab-emirates', '/statistics/twitter/profiles/united-kingdom', '/statistics/twitter/profiles/united-states', '/statistics/twitter/profiles/uruguay', '/statistics/twitter/profiles/uzbekistan', '/statistics/twitter/profiles/vanuatu', '/statistics/twitter/profiles/vatican', '/statistics/twitter/profiles/venezuela', '/statistics/twitter/profiles/vietnam', '/statistics/twitter/profiles/yemen', '/statistics/twitter/profiles/zambia', '/statistics/twitter/profiles/zimbabwe']\n",
        "print(len(active_list),active_list)"
      ],
      "execution_count": null,
      "outputs": []
    },
    {
      "cell_type": "markdown",
      "metadata": {
        "id": "Kc-sOBzuSxRa"
      },
      "source": [
        "### Getting Profile Ext List (5 mins)"
      ]
    },
    {
      "cell_type": "code",
      "metadata": {
        "id": "ReFfQi07XCAl"
      },
      "source": [
        "# Scours each countries' page to get the top profiles and put them in a list\n",
        "profile_ext_list = []\n",
        "start = time.time()\n",
        "count = 0\n",
        "for i in active_list:\n",
        "  profile_ext_list.append(get_profile_ext(i))\n",
        "  if count % 10 == 0:\n",
        "    print(count,'out of',len(active_list),' countries completed.')\n",
        "  count+=1\n",
        "end = time.time()\n",
        "print(\"Time Taken: {:.6f}s\".format(end-start))\n",
        "profile_ext_list = list(set(chain.from_iterable(profile_ext_list)))\n",
        "print(len(profile_ext_list),profile_ext_list)"
      ],
      "execution_count": null,
      "outputs": []
    },
    {
      "cell_type": "markdown",
      "metadata": {
        "id": "fxGlrTskqR7f"
      },
      "source": [
        "### Getting Static Profile Ext List [Start here if you recently ran (and saved output for) above code]"
      ]
    },
    {
      "cell_type": "code",
      "metadata": {
        "id": "aV_5VF5vosH1"
      },
      "source": [
        "# Done in around 5 mins\n",
        "static_profile_ext_list = [] # Save output from the previous here to save time\n",
        "\n",
        "try:\n",
        "  profile_ext_list = profile_ext_list\n",
        "except:\n",
        "  profile_ext_list = static_profile_ext_list"
      ],
      "execution_count": null,
      "outputs": []
    },
    {
      "cell_type": "markdown",
      "metadata": {
        "id": "MxGOVa_l6M44"
      },
      "source": [
        "### Getting Chart Link List"
      ]
    },
    {
      "cell_type": "code",
      "metadata": {
        "id": "G_Q_ULUbUYki"
      },
      "source": [
        "# Obtains chart links from the profile links\n",
        "chart_link_list = []\n",
        "start = time.time()\n",
        "for i in profile_ext_list:\n",
        "  chart_link_list.append(get_chart_link(i))\n",
        "end = time.time()\n",
        "print(\"Time Taken: {:.6f}s\".format(end-start))\n",
        "chart_link_list = list(set(chart_link_list))\n",
        "print(len(chart_link_list),chart_link_list)"
      ],
      "execution_count": null,
      "outputs": []
    },
    {
      "cell_type": "markdown",
      "metadata": {
        "id": "AAzLtm4YBKnr"
      },
      "source": [
        "### Get User-Follower List (20 mins)"
      ]
    },
    {
      "cell_type": "code",
      "metadata": {
        "id": "0pvXfYvqEXRK"
      },
      "source": [
        "# Scraps the followers from the list of profiles from social bakers website - Default condition set to obtain profiles with more than 10,000 followers and have consistent follower growth over (2w,1m,3m,6m)\n",
        "driver = webdriver.Chrome('chromedriver',options=chrome_options)\n",
        "output = dict()\n",
        "count = 1\n",
        "start = time.time()\n",
        "\n",
        "for i in chart_link_list:\n",
        "  profile_ext = i.split('?ids=')[1].split('&colors=')[0]\n",
        "  try:\n",
        "    _, follower_list, num_list = get_followers(i)\n",
        "    if follower_list[-1] >= 10000 and follower_list[6]>follower_list[0] and follower_list[10]>follower_list[6] and follower_list[11]>follower_list[10]: # amend conditions here\n",
        "      pct_chg_list, followers_bf_list, followers_af = pct_chg(follower_list, num_list)\n",
        "      pct_chg_list.append(followers_af)\n",
        "      output[profile_ext] = pct_chg_list\n",
        "      #print(profile_ext, str(round(output[profile_ext][0]*100,2)) + '% growth over 6m, currently has ' + str(followers_af) + ' followers')\n",
        "  except:\n",
        "    pass\n",
        "    #print(\"NO DATA\")\n",
        "  if count % 100 == 0:\n",
        "    print(str(count)+\" out of \" + str(len(chart_link_list)) + \" completed.\", len(output),\"inserted\")\n",
        "  count += 1      \n",
        "end = time.time()\n",
        "print(\"Time Taken: {:.6f}s\".format(end-start))\n",
        "print(len(output),output)"
      ],
      "execution_count": null,
      "outputs": []
    },
    {
      "cell_type": "markdown",
      "metadata": {
        "id": "7kMqG9usojF_"
      },
      "source": [
        "### Getting Static User-Follower List [Start here if you recently ran (and saved output for) above code]"
      ]
    },
    {
      "cell_type": "code",
      "metadata": {
        "id": "D2iIpCO-_vry"
      },
      "source": [
        "#done in 20 mins\n",
        "static_output = {}\n",
        "\n",
        "try:\n",
        "  output = output\n",
        "except:\n",
        "  output = static_output\n",
        "\n",
        "sorted_chg_6m = sorted([float(i[0]) for i in [i for i in output.values()]])\n",
        "sorted_chg_3m = sorted([float(i[1]) for i in [i for i in output.values()]])\n",
        "sorted_chg_1m = sorted([float(i[2]) for i in [i for i in output.values()]])\n",
        "sorted_chg_2w = sorted([float(i[3]) for i in [i for i in output.values()]])"
      ],
      "execution_count": null,
      "outputs": []
    },
    {
      "cell_type": "markdown",
      "metadata": {
        "id": "8E2c1p4apLT-"
      },
      "source": [
        "### Get top new follower % accounts"
      ]
    },
    {
      "cell_type": "code",
      "metadata": {
        "colab": {
          "base_uri": "https://localhost:8080/"
        },
        "id": "TpEte7o0ghTk",
        "outputId": "97d0f89f-fd86-46a4-cae3-cffdb4cc88c8"
      },
      "source": [
        "driver = webdriver.Chrome('chromedriver',options=chrome_options)\n",
        "#Setting targets\n",
        "target_list, target_value, tenor, top_x = set_var('2w',25) # set tenor and top # of profiles to view\n",
        "target_count = 1\n",
        "mydict = OrderedDict()\n",
        "\n",
        "for i in target_list[::-1]:\n",
        "  for key, value in output.items():\n",
        "    if value[target_value] == i:# and int(value[0]+1) != value[4]: #To remove division by 0 followers data\n",
        "      profile_ext = '/statistics/twitter/profiles/detail/' + key\n",
        "      profile_name = get_profile_name(profile_ext)\n",
        "      category = get_category(profile_ext)\n",
        "      print(target_count,tenor+' chg = '+str(round(value[target_value]*100,2))+'%',profile_name, category, base+profile_ext, value)                                    \n",
        "      mydict[profile_name] = {'URL' : base+profile_ext,\n",
        "                              'Category' : category,\n",
        "                              'Followers' : f\"{value[4]:,d}\",\n",
        "                              '6m chg' : f\"{value[0]:.0%}\",#str(int(value[0]*100)) +'%',\n",
        "                              '3m chg' : f\"{value[1]:.0%}\",\n",
        "                              '1m chg' : f\"{value[2]:.0%}\",\n",
        "                              '0.5m chg' : f\"{value[3]:.0%}\"}\n",
        "  target_count+=1"
      ],
      "execution_count": null,
      "outputs": [
        {
          "output_type": "stream",
          "text": [
            "1 2w chg = 45.4% @ONPE_oficial {'society/governmental', 'peru'} https://www.socialbakers.com/statistics/twitter/profiles/detail/255707941 [0.9937, 0.91543, 0.4596, 0.45404, 525490]\n",
            "2 2w chg = 38.87% @intel_la {'global', 'brands/electronics'} https://www.socialbakers.com/statistics/twitter/profiles/detail/53459457 [0.44089, 0.41333, 0.38911, 0.38869, 91855]\n",
            "3 2w chg = 29.03% @taoyuanairport {'taiwan', 'place/airport'} https://www.socialbakers.com/statistics/twitter/profiles/detail/3306946201 [0.97065, 0.90688, 0.29522, 0.29028, 19269]\n",
            "4 2w chg = 26.56% @WePlay_Esports {'ukraine'} https://www.socialbakers.com/statistics/twitter/profiles/detail/949934119 [0.51783, 0.46346, 0.40693, 0.26562, 29575]\n",
            "5 2w chg = 23.14% @TEAMEVGA {'brands/services', 'united-states', 'united-kingdom'} https://www.socialbakers.com/statistics/twitter/profiles/detail/26180582 [0.26966, 0.26344, 0.24535, 0.23136, 631722]\n",
            "6 2w chg = 18.29% @carlitosrejala {'society/politics', 'paraguay'} https://www.socialbakers.com/statistics/twitter/profiles/detail/1898968398 [49097.0, 0.25359, 0.1885, 0.18291, 49098]\n",
            "7 2w chg = 16.08% @OlympTrade {'brands/finance', 'cyprus'} https://www.socialbakers.com/statistics/twitter/profiles/detail/715201886442373120 [1.43424, 0.82037, 0.32558, 0.16081, 18342]\n",
            "8 2w chg = 14.07% @CoinMarketCap {'brands/finance', 'global'} https://www.socialbakers.com/statistics/twitter/profiles/detail/2260491445 [2.05906, 1.23847, 0.39111, 0.14075, 1957033]\n",
            "9 2w chg = 12.89% @kaihavertz29 {'celebrities/sport-star', 'germany'} https://www.socialbakers.com/statistics/twitter/profiles/detail/795280573761810433 [0.6115, 0.36881, 0.17677, 0.12888, 592181]\n",
            "10 2w chg = 12.85% @hugodejonge {'netherlands', 'society/politics'} https://www.socialbakers.com/statistics/twitter/profiles/detail/29785926 [0.54553, 0.24312, 0.16224, 0.12853, 141620]\n",
            "11 2w chg = 12.36% @naomiosaka {'japan', 'celebrities/sport-star'} https://www.socialbakers.com/statistics/twitter/profiles/detail/773280684173463552 [0.31523, 0.14921, 0.12507, 0.12358, 1079561]\n",
            "12 2w chg = 11.04% @rauwalejandro {'puerto-rico', 'celebrities/singer'} https://www.socialbakers.com/statistics/twitter/profiles/detail/1330718940 [0.75556, 0.36571, 0.17479, 0.11038, 878450]\n",
            "13 2w chg = 10.41% @samuel_garcias {'mexico'} https://www.socialbakers.com/statistics/twitter/profiles/detail/258973851 [0.64635, 0.46766, 0.1438, 0.10409, 132643]\n",
            "14 2w chg = 10.33% @visitshaanxi {'china', 'place/country'} https://www.socialbakers.com/statistics/twitter/profiles/detail/2242189550 [0.26356, 0.25205, 0.1249, 0.1033, 103761]\n",
            "15 2w chg = 10.04% @JNE_Peru {'society/governmental', 'peru'} https://www.socialbakers.com/statistics/twitter/profiles/detail/160355694 [0.28861, 0.22958, 0.11613, 0.10044, 304769]\n",
            "16 2w chg = 9.71% @dogecoin {'global'} https://www.socialbakers.com/statistics/twitter/profiles/detail/2235729541 [10.43056, 1.7114, 0.33041, 0.09715, 1798805]\n",
            "17 2w chg = 9.29% @FabrizioRomano {'italy', 'celebrities/actor'} https://www.socialbakers.com/statistics/twitter/profiles/detail/330262748 [0.35612, 0.2435, 0.14148, 0.09286, 3071757]\n",
            "18 2w chg = 8.63% @iga_swiatek {'poland', 'celebrities/sport-star'} https://www.socialbakers.com/statistics/twitter/profiles/detail/1087289365544534016 [0.42763, 0.22874, 0.1783, 0.08632, 162364]\n",
            "19 2w chg = 8.55% @Enjoy_Saudi {'saudi-arabia', 'society/governmental'} https://www.socialbakers.com/statistics/twitter/profiles/detail/814021329632559104 [0.90466, 0.44552, 0.15976, 0.0855, 1395164]\n",
            "20 2w chg = 8.12% @VitalikButerin {'russia'} https://www.socialbakers.com/statistics/twitter/profiles/detail/295218901 [0.96665, 0.61965, 0.32405, 0.08117, 2030834]\n",
            "21 2w chg = 7.81% @TheShovel {'australia', 'media/magazines-journals'} https://www.socialbakers.com/statistics/twitter/profiles/detail/567192377 [0.30585, 0.15636, 0.08485, 0.07809, 62856]\n",
            "22 2w chg = 7.8% @cryptomanran {'south-africa', 'celebrities/broadcast-star'} https://www.socialbakers.com/statistics/twitter/profiles/detail/58487473 [1.18281, 0.86388, 0.25842, 0.078, 248386]\n",
            "23 2w chg = 7.04% @NewsWireLK {'sri-lanka', 'media/daily-news'} https://www.socialbakers.com/statistics/twitter/profiles/detail/1176546593861820416 [0.78201, 0.38124, 0.16325, 0.07036, 34473]\n",
            "24 2w chg = 6.72% @ezgimola {'turkey', 'celebrities/actor'} https://www.socialbakers.com/statistics/twitter/profiles/detail/37322526 [0.09937, 0.07679, 0.06764, 0.06717, 1882899]\n",
            "25 2w chg = 6.65% @ToniRuediger {'celebrities/sport-star', 'germany'} https://www.socialbakers.com/statistics/twitter/profiles/detail/3397258065 [0.2351, 0.17507, 0.09677, 0.06652, 827017]\n"
          ],
          "name": "stdout"
        }
      ]
    },
    {
      "cell_type": "code",
      "metadata": {
        "colab": {
          "base_uri": "https://localhost:8080/"
        },
        "id": "YKtcZZeyNFQb",
        "outputId": "84f44a2f-e5c4-4ec1-fd88-3fd8a5952728"
      },
      "source": [
        "mydict"
      ],
      "execution_count": null,
      "outputs": [
        {
          "output_type": "execute_result",
          "data": {
            "text/plain": [
              "OrderedDict([('@ONPE_oficial',\n",
              "              {'0.5m chg': '45%',\n",
              "               '1m chg': '46%',\n",
              "               '3m chg': '92%',\n",
              "               '6m chg': '99%',\n",
              "               'Category': {'peru', 'society/governmental'},\n",
              "               'Followers': '525,490',\n",
              "               'URL': 'https://www.socialbakers.com/statistics/twitter/profiles/detail/255707941'}),\n",
              "             ('@intel_la',\n",
              "              {'0.5m chg': '39%',\n",
              "               '1m chg': '39%',\n",
              "               '3m chg': '41%',\n",
              "               '6m chg': '44%',\n",
              "               'Category': {'brands/electronics', 'global'},\n",
              "               'Followers': '91,855',\n",
              "               'URL': 'https://www.socialbakers.com/statistics/twitter/profiles/detail/53459457'}),\n",
              "             ('@taoyuanairport',\n",
              "              {'0.5m chg': '29%',\n",
              "               '1m chg': '30%',\n",
              "               '3m chg': '91%',\n",
              "               '6m chg': '97%',\n",
              "               'Category': {'place/airport', 'taiwan'},\n",
              "               'Followers': '19,269',\n",
              "               'URL': 'https://www.socialbakers.com/statistics/twitter/profiles/detail/3306946201'}),\n",
              "             ('@WePlay_Esports',\n",
              "              {'0.5m chg': '27%',\n",
              "               '1m chg': '41%',\n",
              "               '3m chg': '46%',\n",
              "               '6m chg': '52%',\n",
              "               'Category': {'ukraine'},\n",
              "               'Followers': '29,575',\n",
              "               'URL': 'https://www.socialbakers.com/statistics/twitter/profiles/detail/949934119'}),\n",
              "             ('@TEAMEVGA',\n",
              "              {'0.5m chg': '23%',\n",
              "               '1m chg': '25%',\n",
              "               '3m chg': '26%',\n",
              "               '6m chg': '27%',\n",
              "               'Category': {'brands/services',\n",
              "                'united-kingdom',\n",
              "                'united-states'},\n",
              "               'Followers': '631,722',\n",
              "               'URL': 'https://www.socialbakers.com/statistics/twitter/profiles/detail/26180582'}),\n",
              "             ('@carlitosrejala',\n",
              "              {'0.5m chg': '18%',\n",
              "               '1m chg': '19%',\n",
              "               '3m chg': '25%',\n",
              "               '6m chg': '4909700%',\n",
              "               'Category': {'paraguay', 'society/politics'},\n",
              "               'Followers': '49,098',\n",
              "               'URL': 'https://www.socialbakers.com/statistics/twitter/profiles/detail/1898968398'}),\n",
              "             ('@OlympTrade',\n",
              "              {'0.5m chg': '16%',\n",
              "               '1m chg': '33%',\n",
              "               '3m chg': '82%',\n",
              "               '6m chg': '143%',\n",
              "               'Category': {'brands/finance', 'cyprus'},\n",
              "               'Followers': '18,342',\n",
              "               'URL': 'https://www.socialbakers.com/statistics/twitter/profiles/detail/715201886442373120'}),\n",
              "             ('@CoinMarketCap',\n",
              "              {'0.5m chg': '14%',\n",
              "               '1m chg': '39%',\n",
              "               '3m chg': '124%',\n",
              "               '6m chg': '206%',\n",
              "               'Category': {'brands/finance', 'global'},\n",
              "               'Followers': '1,957,033',\n",
              "               'URL': 'https://www.socialbakers.com/statistics/twitter/profiles/detail/2260491445'}),\n",
              "             ('@kaihavertz29',\n",
              "              {'0.5m chg': '13%',\n",
              "               '1m chg': '18%',\n",
              "               '3m chg': '37%',\n",
              "               '6m chg': '61%',\n",
              "               'Category': {'celebrities/sport-star', 'germany'},\n",
              "               'Followers': '592,181',\n",
              "               'URL': 'https://www.socialbakers.com/statistics/twitter/profiles/detail/795280573761810433'}),\n",
              "             ('@hugodejonge',\n",
              "              {'0.5m chg': '13%',\n",
              "               '1m chg': '16%',\n",
              "               '3m chg': '24%',\n",
              "               '6m chg': '55%',\n",
              "               'Category': {'netherlands', 'society/politics'},\n",
              "               'Followers': '141,620',\n",
              "               'URL': 'https://www.socialbakers.com/statistics/twitter/profiles/detail/29785926'}),\n",
              "             ('@naomiosaka',\n",
              "              {'0.5m chg': '12%',\n",
              "               '1m chg': '13%',\n",
              "               '3m chg': '15%',\n",
              "               '6m chg': '32%',\n",
              "               'Category': {'celebrities/sport-star', 'japan'},\n",
              "               'Followers': '1,079,561',\n",
              "               'URL': 'https://www.socialbakers.com/statistics/twitter/profiles/detail/773280684173463552'}),\n",
              "             ('@rauwalejandro',\n",
              "              {'0.5m chg': '11%',\n",
              "               '1m chg': '17%',\n",
              "               '3m chg': '37%',\n",
              "               '6m chg': '76%',\n",
              "               'Category': {'celebrities/singer', 'puerto-rico'},\n",
              "               'Followers': '878,450',\n",
              "               'URL': 'https://www.socialbakers.com/statistics/twitter/profiles/detail/1330718940'}),\n",
              "             ('@samuel_garcias',\n",
              "              {'0.5m chg': '10%',\n",
              "               '1m chg': '14%',\n",
              "               '3m chg': '47%',\n",
              "               '6m chg': '65%',\n",
              "               'Category': {'mexico'},\n",
              "               'Followers': '132,643',\n",
              "               'URL': 'https://www.socialbakers.com/statistics/twitter/profiles/detail/258973851'}),\n",
              "             ('@visitshaanxi',\n",
              "              {'0.5m chg': '10%',\n",
              "               '1m chg': '12%',\n",
              "               '3m chg': '25%',\n",
              "               '6m chg': '26%',\n",
              "               'Category': {'china', 'place/country'},\n",
              "               'Followers': '103,761',\n",
              "               'URL': 'https://www.socialbakers.com/statistics/twitter/profiles/detail/2242189550'}),\n",
              "             ('@JNE_Peru',\n",
              "              {'0.5m chg': '10%',\n",
              "               '1m chg': '12%',\n",
              "               '3m chg': '23%',\n",
              "               '6m chg': '29%',\n",
              "               'Category': {'peru', 'society/governmental'},\n",
              "               'Followers': '304,769',\n",
              "               'URL': 'https://www.socialbakers.com/statistics/twitter/profiles/detail/160355694'}),\n",
              "             ('@dogecoin',\n",
              "              {'0.5m chg': '10%',\n",
              "               '1m chg': '33%',\n",
              "               '3m chg': '171%',\n",
              "               '6m chg': '1043%',\n",
              "               'Category': {'global'},\n",
              "               'Followers': '1,798,805',\n",
              "               'URL': 'https://www.socialbakers.com/statistics/twitter/profiles/detail/2235729541'}),\n",
              "             ('@FabrizioRomano',\n",
              "              {'0.5m chg': '9%',\n",
              "               '1m chg': '14%',\n",
              "               '3m chg': '24%',\n",
              "               '6m chg': '36%',\n",
              "               'Category': {'celebrities/actor', 'italy'},\n",
              "               'Followers': '3,071,757',\n",
              "               'URL': 'https://www.socialbakers.com/statistics/twitter/profiles/detail/330262748'}),\n",
              "             ('@iga_swiatek',\n",
              "              {'0.5m chg': '9%',\n",
              "               '1m chg': '18%',\n",
              "               '3m chg': '23%',\n",
              "               '6m chg': '43%',\n",
              "               'Category': {'celebrities/sport-star', 'poland'},\n",
              "               'Followers': '162,364',\n",
              "               'URL': 'https://www.socialbakers.com/statistics/twitter/profiles/detail/1087289365544534016'}),\n",
              "             ('@Enjoy_Saudi',\n",
              "              {'0.5m chg': '9%',\n",
              "               '1m chg': '16%',\n",
              "               '3m chg': '45%',\n",
              "               '6m chg': '90%',\n",
              "               'Category': {'saudi-arabia', 'society/governmental'},\n",
              "               'Followers': '1,395,164',\n",
              "               'URL': 'https://www.socialbakers.com/statistics/twitter/profiles/detail/814021329632559104'}),\n",
              "             ('@VitalikButerin',\n",
              "              {'0.5m chg': '8%',\n",
              "               '1m chg': '32%',\n",
              "               '3m chg': '62%',\n",
              "               '6m chg': '97%',\n",
              "               'Category': {'russia'},\n",
              "               'Followers': '2,030,834',\n",
              "               'URL': 'https://www.socialbakers.com/statistics/twitter/profiles/detail/295218901'}),\n",
              "             ('@TheShovel',\n",
              "              {'0.5m chg': '8%',\n",
              "               '1m chg': '8%',\n",
              "               '3m chg': '16%',\n",
              "               '6m chg': '31%',\n",
              "               'Category': {'australia', 'media/magazines-journals'},\n",
              "               'Followers': '62,856',\n",
              "               'URL': 'https://www.socialbakers.com/statistics/twitter/profiles/detail/567192377'}),\n",
              "             ('@cryptomanran',\n",
              "              {'0.5m chg': '8%',\n",
              "               '1m chg': '26%',\n",
              "               '3m chg': '86%',\n",
              "               '6m chg': '118%',\n",
              "               'Category': {'celebrities/broadcast-star', 'south-africa'},\n",
              "               'Followers': '248,386',\n",
              "               'URL': 'https://www.socialbakers.com/statistics/twitter/profiles/detail/58487473'}),\n",
              "             ('@NewsWireLK',\n",
              "              {'0.5m chg': '7%',\n",
              "               '1m chg': '16%',\n",
              "               '3m chg': '38%',\n",
              "               '6m chg': '78%',\n",
              "               'Category': {'media/daily-news', 'sri-lanka'},\n",
              "               'Followers': '34,473',\n",
              "               'URL': 'https://www.socialbakers.com/statistics/twitter/profiles/detail/1176546593861820416'}),\n",
              "             ('@ezgimola',\n",
              "              {'0.5m chg': '7%',\n",
              "               '1m chg': '7%',\n",
              "               '3m chg': '8%',\n",
              "               '6m chg': '10%',\n",
              "               'Category': {'celebrities/actor', 'turkey'},\n",
              "               'Followers': '1,882,899',\n",
              "               'URL': 'https://www.socialbakers.com/statistics/twitter/profiles/detail/37322526'}),\n",
              "             ('@ToniRuediger',\n",
              "              {'0.5m chg': '7%',\n",
              "               '1m chg': '10%',\n",
              "               '3m chg': '18%',\n",
              "               '6m chg': '24%',\n",
              "               'Category': {'celebrities/sport-star', 'germany'},\n",
              "               'Followers': '827,017',\n",
              "               'URL': 'https://www.socialbakers.com/statistics/twitter/profiles/detail/3397258065'})])"
            ]
          },
          "metadata": {
            "tags": []
          },
          "execution_count": 17
        }
      ]
    },
    {
      "cell_type": "code",
      "metadata": {
        "id": "ctrOycEY2oOw"
      },
      "source": [
        ""
      ],
      "execution_count": null,
      "outputs": []
    }
  ]
}